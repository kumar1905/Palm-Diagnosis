{
 "cells": [
  {
   "cell_type": "code",
   "execution_count": 8,
   "id": "ea55a1d1",
   "metadata": {},
   "outputs": [],
   "source": [
    "import os\n",
    "import cv2\n",
    "import numpy as np\n",
    "import pandas as pd\n",
    "import tensorflow as tf\n",
    "from tensorflow.keras.utils import to_categorical\n",
    "from sklearn.model_selection import train_test_split\n",
    "from tensorflow.keras.preprocessing.image import ImageDataGenerator\n",
    "from tensorflow.keras.models import Sequential\n",
    "from tensorflow.keras.layers import Conv2D, MaxPooling2D, Flatten, Dense, Dropout, BatchNormalization\n",
    "from tensorflow.keras.optimizers import Adam\n",
    "from tensorflow.keras.callbacks import EarlyStopping, ReduceLROnPlateau\n"
   ]
  },
  {
   "cell_type": "code",
   "execution_count": 9,
   "id": "c788508e",
   "metadata": {},
   "outputs": [],
   "source": [
    "# Set dataset paths\n",
    "dataset_path = r\"C:\\Users\\madas\\OneDrive\\Desktop\\model3\\session1\\dataset.csv\"\n",
    "image_dir = r\"C:\\Users\\madas\\OneDrive\\Desktop\\model3\\session1\"\n",
    "\n",
    "# Load CSV file\n",
    "df = pd.read_csv(dataset_path)\n",
    "\n",
    "# Image settings\n",
    "IMG_SIZE = (128, 128)\n",
    "data, labels = [], []\n",
    "\n",
    "# Read images and labels\n",
    "for _, row in df.iterrows():\n",
    "    img_path = os.path.join(image_dir, row['filename'])\n",
    "    label = row['label']\n",
    "\n",
    "    img = cv2.imread(img_path, cv2.IMREAD_GRAYSCALE)  # Convert to grayscale\n",
    "    if img is not None:\n",
    "        img = cv2.resize(img, IMG_SIZE)\n",
    "        data.append(img)\n",
    "        labels.append(label)\n",
    "\n",
    "# Convert to numpy arrays and normalize\n",
    "data = np.array(data) / 255.0  \n",
    "data = data.reshape(-1, 128, 128, 1)  # Add channel dimension\n",
    "labels = to_categorical(labels)  # One-hot encode labels\n",
    "\n",
    "# Train-Test Split\n",
    "X_train, X_test, y_train, y_test = train_test_split(data, labels, test_size=0.2, random_state=42)\n"
   ]
  },
  {
   "cell_type": "code",
   "execution_count": 10,
   "id": "8b2c3bc3",
   "metadata": {},
   "outputs": [],
   "source": [
    "datagen = ImageDataGenerator(\n",
    "    rotation_range=10,  # Reduce rotation\n",
    "    width_shift_range=0.1,\n",
    "    height_shift_range=0.1,\n",
    "    zoom_range=0.1,  # Small zoom\n",
    "    fill_mode=\"nearest\"\n",
    ")\n"
   ]
  },
  {
   "cell_type": "code",
   "execution_count": 15,
   "id": "63607e38",
   "metadata": {},
   "outputs": [],
   "source": [
    "from tensorflow.keras.layers import Activation\n",
    "\n",
    "# Define Improved CNN Model\n",
    "model = Sequential([\n",
    "    Conv2D(32, (5,5), input_shape=(128,128,1)),  # Larger Kernel\n",
    "    BatchNormalization(),\n",
    "    Activation('swish'),  # Swish Activation\n",
    "    MaxPooling2D(2,2),\n",
    "\n",
    "    Conv2D(64, (3,3), padding='same'),\n",
    "    BatchNormalization(),\n",
    "    Activation('swish'),\n",
    "    MaxPooling2D(2,2),\n",
    "\n",
    "    Conv2D(128, (3,3), padding='same'),\n",
    "    BatchNormalization(),\n",
    "    Activation('swish'),\n",
    "    MaxPooling2D(2,2),\n",
    "\n",
    "    Conv2D(256, (3,3), padding='same'),  # Extra Conv Layer\n",
    "    BatchNormalization(),\n",
    "    Activation('swish'),\n",
    "    MaxPooling2D(2,2),\n",
    "\n",
    "    Flatten(),\n",
    "    Dense(512, activation='swish'),\n",
    "    Dropout(0.4),\n",
    "    Dense(labels.shape[1], activation='softmax')  \n",
    "])\n",
    "\n",
    "# Compile with lower learning rate\n",
    "model.compile(optimizer=Adam(learning_rate=0.0002), loss='categorical_crossentropy', metrics=['accuracy'])\n"
   ]
  },
  {
   "cell_type": "code",
   "execution_count": 16,
   "id": "11afc5eb",
   "metadata": {},
   "outputs": [],
   "source": [
    "datagen = ImageDataGenerator(\n",
    "    rotation_range=20,  \n",
    "    width_shift_range=0.2,\n",
    "    height_shift_range=0.2,\n",
    "    zoom_range=0.2,\n",
    "    brightness_range=[0.8, 1.2],  # Adjust brightness\n",
    "    fill_mode=\"nearest\"\n",
    ")\n"
   ]
  },
  {
   "cell_type": "code",
   "execution_count": null,
   "id": "ffb95e53",
   "metadata": {},
   "outputs": [
    {
     "name": "stdout",
     "output_type": "stream",
     "text": [
      "Epoch 1/100\n",
      "150/150 [==============================] - 180s 1s/step - loss: 1.6591 - accuracy: 0.2217 - val_loss: 1.6613 - val_accuracy: 0.1975\n",
      "Epoch 2/100\n",
      "150/150 [==============================] - 190s 1s/step - loss: 1.6930 - accuracy: 0.2240 - val_loss: 30.3628 - val_accuracy: 0.1933\n",
      "Epoch 3/100\n",
      "150/150 [==============================] - 203s 1s/step - loss: 1.6445 - accuracy: 0.2452 - val_loss: 269.9903 - val_accuracy: 0.1775\n",
      "Epoch 4/100\n",
      "150/150 [==============================] - 174s 1s/step - loss: 1.6712 - accuracy: 0.2454 - val_loss: 988.3759 - val_accuracy: 0.2275\n",
      "Epoch 5/100\n",
      "150/150 [==============================] - 174s 1s/step - loss: 1.7041 - accuracy: 0.2450 - val_loss: 2830.4446 - val_accuracy: 0.1617\n",
      "Epoch 6/100\n",
      "150/150 [==============================] - 167s 1s/step - loss: 1.6547 - accuracy: 0.2438 - val_loss: 8161.1943 - val_accuracy: 0.1617\n",
      "Epoch 7/100\n",
      "150/150 [==============================] - 150s 998ms/step - loss: 1.6738 - accuracy: 0.2483 - val_loss: 3007.1592 - val_accuracy: 0.1933\n",
      "Epoch 8/100\n",
      " 69/150 [============>.................] - ETA: 1:16 - loss: 1.6131 - accuracy: 0.2396"
     ]
    }
   ],
   "source": [
    "early_stop = EarlyStopping(monitor='val_accuracy', patience=10, restore_best_weights=True, verbose=1)\n",
    "\n",
    "history = model.fit(\n",
    "    datagen.flow(X_train, y_train, batch_size=32),\n",
    "    validation_data=(X_test, y_test),\n",
    "    epochs=100,  \n",
    "    callbacks=[early_stop],\n",
    "    verbose=1\n",
    ")\n"
   ]
  },
  {
   "cell_type": "code",
   "execution_count": 14,
   "id": "38981654",
   "metadata": {},
   "outputs": [
    {
     "name": "stderr",
     "output_type": "stream",
     "text": [
      "C:\\Users\\madas\\anaconda3\\Lib\\site-packages\\keras\\src\\engine\\training.py:3079: UserWarning: You are saving your model as an HDF5 file via `model.save()`. This file format is considered legacy. We recommend using instead the native Keras format, e.g. `model.save('my_model.keras')`.\n",
      "  saving_api.save_model(\n"
     ]
    },
    {
     "name": "stdout",
     "output_type": "stream",
     "text": [
      "38/38 [==============================] - 6s 156ms/step - loss: 0.6112 - accuracy: 0.7400\n",
      "Test Accuracy: 74.00%\n"
     ]
    }
   ],
   "source": [
    "# Save the trained model\n",
    "model.save(\"optimized_model.h5\")\n",
    "\n",
    "# Evaluate on test set\n",
    "test_loss, test_acc = model.evaluate(X_test, y_test)\n",
    "print(f\"Test Accuracy: {test_acc * 100:.2f}%\")\n"
   ]
  },
  {
   "cell_type": "code",
   "execution_count": null,
   "id": "b5c0b027",
   "metadata": {},
   "outputs": [],
   "source": []
  }
 ],
 "metadata": {
  "kernelspec": {
   "display_name": "Python 3 (ipykernel)",
   "language": "python",
   "name": "python3"
  },
  "language_info": {
   "codemirror_mode": {
    "name": "ipython",
    "version": 3
   },
   "file_extension": ".py",
   "mimetype": "text/x-python",
   "name": "python",
   "nbconvert_exporter": "python",
   "pygments_lexer": "ipython3",
   "version": "3.11.5"
  }
 },
 "nbformat": 4,
 "nbformat_minor": 5
}
